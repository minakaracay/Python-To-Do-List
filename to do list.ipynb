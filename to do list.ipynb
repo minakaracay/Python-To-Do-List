{
 "cells": [
  {
   "cell_type": "code",
   "execution_count": null,
   "id": "7f43fd35",
   "metadata": {},
   "outputs": [],
   "source": [
    "to_do_list = []\n",
    "\n",
    "def show_tasks(to_do_list):\n",
    "    print(\"Tasks to be Done: \")\n",
    "    for task in to_do_list:\n",
    "        print(\"-- \" + task)\n",
    "\n",
    "def add_task(to_do_list):\n",
    "    task = input(\"Enter the task to be done: \")\n",
    "    to_do_list.append(task)\n",
    "    print(\"The task has been added successfully.\")\n",
    "\n",
    "def delete_task(to_do_list):\n",
    "    task = input(\"Enter the task you want to delete: \")\n",
    "    if task in to_do_list:\n",
    "        to_do_list.remove(task)\n",
    "        print(\"The task has been deleted successfully.\")\n",
    "    else:\n",
    "        print(\"Task not found.\")\n",
    "    \n",
    "while True:\n",
    "    print(\"To-Do List Application\")\n",
    "    print(\"1. Show Tasks\")\n",
    "    print(\"2. Add Task\")\n",
    "    print(\"3. Delete Task\")\n",
    "    print(\"4. Quit\")\n",
    "    choice = input(\"Your choice (1/2/3/4): \")\n",
    "    \n",
    "    if choice == \"1\":\n",
    "        show_tasks(to_do_list)\n",
    "    elif choice == \"2\":\n",
    "        add_task(to_do_list)\n",
    "    elif choice == \"3\":\n",
    "        delete_task(to_do_list)\n",
    "    elif choice == \"4\":\n",
    "        print(\"Application is terminating..\")\n",
    "        break\n",
    "    else:\n",
    "        print(\"Invalid selection. Please try again.\")"
   ]
  }
 ],
 "metadata": {
  "kernelspec": {
   "display_name": "Python 3 (ipykernel)",
   "language": "python",
   "name": "python3"
  },
  "language_info": {
   "codemirror_mode": {
    "name": "ipython",
    "version": 3
   },
   "file_extension": ".py",
   "mimetype": "text/x-python",
   "name": "python",
   "nbconvert_exporter": "python",
   "pygments_lexer": "ipython3",
   "version": "3.11.4"
  }
 },
 "nbformat": 4,
 "nbformat_minor": 5
}
